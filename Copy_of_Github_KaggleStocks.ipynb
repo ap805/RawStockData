{
  "nbformat": 4,
  "nbformat_minor": 0,
  "metadata": {
    "colab": {
      "name": "Copy of Github-KaggleStocks.ipynb",
      "provenance": [],
      "include_colab_link": true
    },
    "kernelspec": {
      "name": "python3",
      "display_name": "Python 3"
    }
  },
  "cells": [
    {
      "cell_type": "markdown",
      "metadata": {
        "id": "view-in-github",
        "colab_type": "text"
      },
      "source": [
        "<a href=\"https://colab.research.google.com/github/ap805/RawStockData/blob/master/Copy_of_Github_KaggleStocks.ipynb\" target=\"_parent\"><img src=\"https://colab.research.google.com/assets/colab-badge.svg\" alt=\"Open In Colab\"/></a>"
      ]
    },
    {
      "cell_type": "markdown",
      "metadata": {
        "id": "3WJcoyawWA3S",
        "colab_type": "text"
      },
      "source": [
        "https://github.com/PascoSports/Stocks"
      ]
    },
    {
      "cell_type": "markdown",
      "metadata": {
        "id": "wfvIvHJd8VEW",
        "colab_type": "text"
      },
      "source": [
        "#My Code\n",
        "\n",
        "\n"
      ]
    },
    {
      "cell_type": "markdown",
      "metadata": {
        "id": "fj3xW3ajwMOH",
        "colab_type": "text"
      },
      "source": [
        "Import Statements and Getting Raw GitHub Data\n"
      ]
    },
    {
      "cell_type": "code",
      "metadata": {
        "id": "-t6ik8-iwEWv",
        "colab_type": "code",
        "colab": {}
      },
      "source": [
        "#Import statements\n",
        "import pandas as pd\n",
        "import numpy as np\n",
        "import matplotlib.pyplot as plt\n",
        "import seaborn as sns\n",
        "sns.set_style('whitegrid')\n",
        "plt.style.use(\"fivethirtyeight\")\n",
        "%matplotlib inline\n",
        "from pandas_datareader.data import DataReader # For reading stock data from yahoo\n",
        "from datetime import datetime # For time stamps\n",
        "#Import ML statements\n",
        "from sklearn.neural_network import MLPRegressor\n",
        "from sklearn.datasets import make_regression\n",
        "from sklearn.model_selection import train_test_split\n",
        "from sklearn.linear_model import SGDRegressor\n",
        "from sklearn.pipeline import make_pipeline\n",
        "from sklearn.preprocessing import StandardScaler\n",
        "\n",
        "#Link to Github Raw Data\n",
        "#Round 1 --> #link2Data = 'https://raw.githubusercontent.com/PascoSports/Stocks/master/No_Date_AAPL_new.csv'\n",
        "link2Data = \"https://raw.githubusercontent.com/ap805/RawStockData/master/SPY%2030min.csv\"\n",
        "\n",
        "\n",
        "#Getting the data from GitHub\n",
        "activedf_NODATE = pd.read_csv(link2Data, dtype=float,delimiter=',', skiprows=0, float_precision=float)\n",
        "originaldf_NODATE = pd.read_csv(link2Data, dtype=float,delimiter=',', skiprows=0, float_precision=float)"
      ],
      "execution_count": null,
      "outputs": []
    },
    {
      "cell_type": "markdown",
      "metadata": {
        "id": "Lx58TwnswJyT",
        "colab_type": "text"
      },
      "source": [
        "Adding \"shifted close number\" column to the activeStock_df dataframe (so we know the answer of tomorrow's quote, use later in ML code) \n",
        "\n"
      ]
    },
    {
      "cell_type": "code",
      "metadata": {
        "id": "DjU4qgyBQNBF",
        "colab_type": "code",
        "colab": {
          "base_uri": "https://localhost:8080/",
          "height": 323
        },
        "outputId": "4468ac61-805d-4bcb-ae1f-ef4be5dd51de"
      },
      "source": [
        "lenny = len(activedf_NODATE)\n",
        "tomor_close = []\n",
        "\n",
        "for i in range(lenny-1):\n",
        "  tomor_close.append(activedf_NODATE[\"Close\"][i+1])\n",
        "\n",
        "tomor_close.append(117) #random number as a fake substitute for the current day's would be closing price\n",
        "activedf_NODATE[\"TomorrowClose\"] = tomor_close #adding the shifted close number to df\n",
        "\n",
        "activedf_NODATE.drop(activedf_NODATE.tail(1).index,inplace=True)\n",
        "originaldf_NODATE.drop(originaldf_NODATE.tail(1).index,inplace=True)\n",
        "\n",
        "\n",
        "#Print check\n",
        "print(\"active\", len(activedf_NODATE))\n",
        "print(len(originaldf_NODATE))\n",
        "\n",
        "print(\"active:\", activedf_NODATE.tail())\n",
        "print(originaldf_NODATE.tail())"
      ],
      "execution_count": null,
      "outputs": [
        {
          "output_type": "stream",
          "text": [
            "active 1313\n",
            "1313\n",
            "active:         Open    High  ...  Exp Moving Average 20  TomorrowClose\n",
            "1308  333.14  333.53  ...                 335.86         331.48\n",
            "1309  331.70  332.73  ...                 335.45         332.41\n",
            "1310  331.48  333.13  ...                 335.16         333.62\n",
            "1311  332.41  334.32  ...                 335.01         334.71\n",
            "1312  333.60  334.92  ...                 334.98         334.07\n",
            "\n",
            "[5 rows x 9 columns]\n",
            "        Open    High  ...  Exp Moving Average 10  Exp Moving Average 20\n",
            "1308  333.14  333.53  ...                 334.52                 335.86\n",
            "1309  331.70  332.73  ...                 333.97                 335.45\n",
            "1310  331.48  333.13  ...                 333.68                 335.16\n",
            "1311  332.41  334.32  ...                 333.67                 335.01\n",
            "1312  333.60  334.92  ...                 333.86                 334.98\n",
            "\n",
            "[5 rows x 8 columns]\n"
          ],
          "name": "stdout"
        }
      ]
    },
    {
      "cell_type": "markdown",
      "metadata": {
        "id": "MBd9AdWJwkhA",
        "colab_type": "text"
      },
      "source": [
        "Machine Learning Algorithm Application\n"
      ]
    },
    {
      "cell_type": "code",
      "metadata": {
        "id": "djKJUf-E8nA7",
        "colab_type": "code",
        "colab": {
          "base_uri": "https://localhost:8080/",
          "height": 419
        },
        "outputId": "060d0010-e222-4849-e88c-30a514064a18"
      },
      "source": [
        "#Using Stochastic Gradient Descent\n",
        "#More on SGD: \n",
        "    #https://scikit-learn.org/stable/modules/generated/sklearn.linear_model.SGDRegressor.html#sklearn.linear_model.SGDRegressor.predict\n",
        "#More on why I chose SGD:\n",
        "    #https://scikit-learn.org/stable/tutorial/machine_learning_map/index.html\n",
        "\n",
        "#Making the ML Model\n",
        "SGD_v1 = make_pipeline(StandardScaler(), SGDRegressor(max_iter=1000, tol=1e-3))\n",
        "\n",
        "#Fitting the Data\n",
        "SGD_v1.fit(originaldf_NODATE.values, activedf_NODATE['TomorrowClose'].values)\n",
        "\n",
        "#Adding a \"SGD Projected close\" column to activeStocks_df\n",
        "activedf_NODATE[\"ProjectedCloseViaSGD\"] = SGD_v1.predict(originaldf_NODATE.values)\n",
        "\n",
        "#Print\n",
        "#originaldf_NODATE\n",
        "activedf_NODATE"
      ],
      "execution_count": null,
      "outputs": [
        {
          "output_type": "execute_result",
          "data": {
            "text/html": [
              "<div>\n",
              "<style scoped>\n",
              "    .dataframe tbody tr th:only-of-type {\n",
              "        vertical-align: middle;\n",
              "    }\n",
              "\n",
              "    .dataframe tbody tr th {\n",
              "        vertical-align: top;\n",
              "    }\n",
              "\n",
              "    .dataframe thead th {\n",
              "        text-align: right;\n",
              "    }\n",
              "</style>\n",
              "<table border=\"1\" class=\"dataframe\">\n",
              "  <thead>\n",
              "    <tr style=\"text-align: right;\">\n",
              "      <th></th>\n",
              "      <th>Open</th>\n",
              "      <th>High</th>\n",
              "      <th>Low</th>\n",
              "      <th>Close</th>\n",
              "      <th>Moving Average 200</th>\n",
              "      <th>Moving Average 50</th>\n",
              "      <th>Exp Moving Average 10</th>\n",
              "      <th>Exp Moving Average 20</th>\n",
              "      <th>TomorrowClose</th>\n",
              "      <th>ProjectedCloseViaSGD</th>\n",
              "    </tr>\n",
              "  </thead>\n",
              "  <tbody>\n",
              "    <tr>\n",
              "      <th>0</th>\n",
              "      <td>282.44</td>\n",
              "      <td>283.04</td>\n",
              "      <td>281.49</td>\n",
              "      <td>281.59</td>\n",
              "      <td>268.14</td>\n",
              "      <td>281.06</td>\n",
              "      <td>283.28</td>\n",
              "      <td>283.36</td>\n",
              "      <td>277.65</td>\n",
              "      <td>282.458646</td>\n",
              "    </tr>\n",
              "    <tr>\n",
              "      <th>1</th>\n",
              "      <td>276.48</td>\n",
              "      <td>278.04</td>\n",
              "      <td>275.34</td>\n",
              "      <td>277.65</td>\n",
              "      <td>268.25</td>\n",
              "      <td>281.07</td>\n",
              "      <td>282.26</td>\n",
              "      <td>282.81</td>\n",
              "      <td>276.88</td>\n",
              "      <td>277.726125</td>\n",
              "    </tr>\n",
              "    <tr>\n",
              "      <th>2</th>\n",
              "      <td>277.65</td>\n",
              "      <td>277.81</td>\n",
              "      <td>276.00</td>\n",
              "      <td>276.88</td>\n",
              "      <td>268.35</td>\n",
              "      <td>281.08</td>\n",
              "      <td>281.28</td>\n",
              "      <td>282.25</td>\n",
              "      <td>274.18</td>\n",
              "      <td>277.763715</td>\n",
              "    </tr>\n",
              "    <tr>\n",
              "      <th>3</th>\n",
              "      <td>276.87</td>\n",
              "      <td>277.07</td>\n",
              "      <td>274.11</td>\n",
              "      <td>274.18</td>\n",
              "      <td>268.43</td>\n",
              "      <td>281.04</td>\n",
              "      <td>279.99</td>\n",
              "      <td>281.48</td>\n",
              "      <td>272.88</td>\n",
              "      <td>276.212402</td>\n",
              "    </tr>\n",
              "    <tr>\n",
              "      <th>4</th>\n",
              "      <td>274.18</td>\n",
              "      <td>274.37</td>\n",
              "      <td>272.55</td>\n",
              "      <td>272.88</td>\n",
              "      <td>268.50</td>\n",
              "      <td>280.96</td>\n",
              "      <td>278.70</td>\n",
              "      <td>280.66</td>\n",
              "      <td>273.61</td>\n",
              "      <td>274.256984</td>\n",
              "    </tr>\n",
              "    <tr>\n",
              "      <th>...</th>\n",
              "      <td>...</td>\n",
              "      <td>...</td>\n",
              "      <td>...</td>\n",
              "      <td>...</td>\n",
              "      <td>...</td>\n",
              "      <td>...</td>\n",
              "      <td>...</td>\n",
              "      <td>...</td>\n",
              "      <td>...</td>\n",
              "      <td>...</td>\n",
              "    </tr>\n",
              "    <tr>\n",
              "      <th>1308</th>\n",
              "      <td>333.14</td>\n",
              "      <td>333.53</td>\n",
              "      <td>331.59</td>\n",
              "      <td>331.70</td>\n",
              "      <td>344.13</td>\n",
              "      <td>337.89</td>\n",
              "      <td>334.52</td>\n",
              "      <td>335.86</td>\n",
              "      <td>331.48</td>\n",
              "      <td>332.752977</td>\n",
              "    </tr>\n",
              "    <tr>\n",
              "      <th>1309</th>\n",
              "      <td>331.70</td>\n",
              "      <td>332.73</td>\n",
              "      <td>331.00</td>\n",
              "      <td>331.48</td>\n",
              "      <td>344.10</td>\n",
              "      <td>337.63</td>\n",
              "      <td>333.97</td>\n",
              "      <td>335.45</td>\n",
              "      <td>332.41</td>\n",
              "      <td>332.029055</td>\n",
              "    </tr>\n",
              "    <tr>\n",
              "      <th>1310</th>\n",
              "      <td>331.48</td>\n",
              "      <td>333.13</td>\n",
              "      <td>331.13</td>\n",
              "      <td>332.41</td>\n",
              "      <td>344.08</td>\n",
              "      <td>337.38</td>\n",
              "      <td>333.68</td>\n",
              "      <td>335.16</td>\n",
              "      <td>333.62</td>\n",
              "      <td>332.265942</td>\n",
              "    </tr>\n",
              "    <tr>\n",
              "      <th>1311</th>\n",
              "      <td>332.41</td>\n",
              "      <td>334.32</td>\n",
              "      <td>332.40</td>\n",
              "      <td>333.62</td>\n",
              "      <td>344.06</td>\n",
              "      <td>337.20</td>\n",
              "      <td>333.67</td>\n",
              "      <td>335.01</td>\n",
              "      <td>334.71</td>\n",
              "      <td>333.270219</td>\n",
              "    </tr>\n",
              "    <tr>\n",
              "      <th>1312</th>\n",
              "      <td>333.60</td>\n",
              "      <td>334.92</td>\n",
              "      <td>332.36</td>\n",
              "      <td>334.71</td>\n",
              "      <td>344.04</td>\n",
              "      <td>337.16</td>\n",
              "      <td>333.86</td>\n",
              "      <td>334.98</td>\n",
              "      <td>334.07</td>\n",
              "      <td>333.898760</td>\n",
              "    </tr>\n",
              "  </tbody>\n",
              "</table>\n",
              "<p>1313 rows × 10 columns</p>\n",
              "</div>"
            ],
            "text/plain": [
              "        Open    High  ...  TomorrowClose  ProjectedCloseViaSGD\n",
              "0     282.44  283.04  ...         277.65            282.458646\n",
              "1     276.48  278.04  ...         276.88            277.726125\n",
              "2     277.65  277.81  ...         274.18            277.763715\n",
              "3     276.87  277.07  ...         272.88            276.212402\n",
              "4     274.18  274.37  ...         273.61            274.256984\n",
              "...      ...     ...  ...            ...                   ...\n",
              "1308  333.14  333.53  ...         331.48            332.752977\n",
              "1309  331.70  332.73  ...         332.41            332.029055\n",
              "1310  331.48  333.13  ...         333.62            332.265942\n",
              "1311  332.41  334.32  ...         334.71            333.270219\n",
              "1312  333.60  334.92  ...         334.07            333.898760\n",
              "\n",
              "[1313 rows x 10 columns]"
            ]
          },
          "metadata": {
            "tags": []
          },
          "execution_count": 493
        }
      ]
    },
    {
      "cell_type": "code",
      "metadata": {
        "id": "2lSsRctMJRWc",
        "colab_type": "code",
        "colab": {
          "base_uri": "https://localhost:8080/",
          "height": 51
        },
        "outputId": "e6f993c2-d66e-48e6-a4d7-290b3a31c047"
      },
      "source": [
        "noDate_activeStock_df[0:1].values"
      ],
      "execution_count": null,
      "outputs": [
        {
          "output_type": "execute_result",
          "data": {
            "text/plain": [
              "array([['115.00', '115.01', '114.86', '114.91', '114.52', '114.83',\n",
              "        '114.94', '114.86']], dtype=object)"
            ]
          },
          "metadata": {
            "tags": []
          },
          "execution_count": 494
        }
      ]
    },
    {
      "cell_type": "code",
      "metadata": {
        "id": "QC4hlomjUPuj",
        "colab_type": "code",
        "colab": {
          "base_uri": "https://localhost:8080/",
          "height": 102
        },
        "outputId": "9669b3fe-d6d7-4a17-9ee0-468b985fbc7d"
      },
      "source": [
        "#Are we correct?\n",
        "print(\"---Manual Check---\") \n",
        "\n",
        "print(\"Original Data Row:\", originaldf_NODATE[0:1].values) #One Row\n",
        "print(SGD_v1.predict(originaldf_NODATE[0:1].values))\n",
        "print(activedf_NODATE.values[0][-1])\n",
        "\n",
        "print(activedf_NODATE.values[0][-1]==SGD_v1.predict(noDate_activeStock_df[0:1].values))"
      ],
      "execution_count": null,
      "outputs": [
        {
          "output_type": "stream",
          "text": [
            "---Manual Check---\n",
            "Original Data Row: [[282.44 283.04 281.49 281.59 268.14 281.06 283.28 283.36]]\n",
            "[282.45864599]\n",
            "282.4586459866774\n",
            "[False]\n"
          ],
          "name": "stdout"
        }
      ]
    },
    {
      "cell_type": "markdown",
      "metadata": {
        "id": "ervFw9OQ-YZW",
        "colab_type": "text"
      },
      "source": [
        "Testing Direction\n"
      ]
    },
    {
      "cell_type": "code",
      "metadata": {
        "id": "zWWkrT4_yLyC",
        "colab_type": "code",
        "colab": {
          "base_uri": "https://localhost:8080/",
          "height": 102
        },
        "outputId": "6a1bccf8-3223-4e4a-aef0-b8179d1e1c8a"
      },
      "source": [
        "count = 0\n",
        "correct_pred = 0\n",
        "incorrect_pred = 0\n",
        "\n",
        "for i in range(len(activedf_NODATE.values.tolist())):\n",
        "  count += 1\n",
        "  monday_close = activedf_NODATE.values[i][3] #Yesterday's close\n",
        "  tuesday_real_close = activedf_NODATE.values[i][8] \n",
        "  tuesday_projected_close = activedf_NODATE.values[i][9] #Tomorrow's projected close based off model\n",
        "\n",
        "  if ( tuesday_projected_close > monday_close and tuesday_real_close > monday_close):\n",
        "    correct_pred += 1\n",
        "    #print(i, \"OK\")\n",
        "  elif ( tuesday_projected_close < monday_close and tuesday_real_close < monday_close):\n",
        "    correct_pred += 1\n",
        "    #print(i, \"OK\")\n",
        "  else:\n",
        "    incorrect_pred += 1\n",
        "    #print(i, \"Bad\")\n",
        "\n",
        "\n",
        "print(\"count:\", count)\n",
        "print(\"Correct:\", correct_pred)\n",
        "print(\"InCorrect:\", incorrect_pred)\n",
        "print(\"Directionally Correct %:\", correct_pred/count)\n",
        "print(\"Score:\",SGD_v1.score(originaldf_NODATE.values, activedf_NODATE['TomorrowClose'].values) )"
      ],
      "execution_count": null,
      "outputs": [
        {
          "output_type": "stream",
          "text": [
            "count: 1313\n",
            "Correct: 649\n",
            "InCorrect: 664\n",
            "Directionally Correct %: 0.49428789032749426\n",
            "Score: 0.9963753613099502\n"
          ],
          "name": "stdout"
        }
      ]
    },
    {
      "cell_type": "markdown",
      "metadata": {
        "id": "BQhb_nR85Q8M",
        "colab_type": "text"
      },
      "source": [
        "Graphing the Data"
      ]
    },
    {
      "cell_type": "code",
      "metadata": {
        "id": "TQhSCkw45OcX",
        "colab_type": "code",
        "colab": {
          "base_uri": "https://localhost:8080/",
          "height": 776
        },
        "outputId": "53a7d40f-93a7-45d4-e254-81c8320576c3"
      },
      "source": [
        "#Zooming in Variables\n",
        "start_val = 0\n",
        "end_val = 10\n",
        "\n",
        "#Plotting\n",
        "plt.figure(figsize=(16,8))\n",
        "plt.plot(activedf_NODATE['Close'][start_val:end_val])\n",
        "plt.plot(activedf_NODATE[\"ProjectedCloseViaSGD\"][start_val:end_val])\n",
        "plt.plot(activedf_NODATE[\"TomorrowClose\"][start_val:end_val])\n",
        "\n",
        "#aesthetic\n",
        "plt.title('Close Price History', fontsize = 18)\n",
        "plt.xlabel('Date', fontsize=18)\n",
        "plt.ylabel('Close Price USD ($)', fontsize=18)\n",
        "plt.legend(['Monday\"s Closing Price', 'Our Projected Closing Price for Tuesday', 'Tuesday\"s Actual close'])\n",
        "plt.show() #Showing the graphic\n",
        "\n",
        "#Print check statements\n",
        "graph_counter = 0\n",
        "graph_correct = 0\n",
        "graph_incorrect = 0\n",
        "\n",
        "for i in range(end_val):\n",
        "  graph_counter += 1\n",
        "  monday_close = activedf_NODATE.values[i][3] #Yesterday's close\n",
        "  tuesday_real_close = activedf_NODATE.values[i][8] \n",
        "  tuesday_projected_close = activedf_NODATE.values[i][9] #Tomorrow's projected close based off model\n",
        "\n",
        "  if ( tuesday_projected_close > monday_close and tuesday_real_close > monday_close):\n",
        "    graph_correct += 1\n",
        "    print(i, \"BOTH Tues's Projection,\", round(tuesday_projected_close,2), \", and Tues's actual close,\", round(tuesday_real_close,2), \" was HIGHER than Mon's Close\", round(monday_close,2))\n",
        "  elif ( tuesday_projected_close < monday_close and tuesday_real_close < monday_close):\n",
        "    graph_correct += 1\n",
        "    print( i, \"BOTH Tues's Projection,\", round(tuesday_projected_close, 2), \", and Tues's actual close,\", round(tuesday_real_close,2), \" was LOWER than Mon's Close\", round(monday_close,2))\n",
        "  else:\n",
        "    graph_incorrect += 1\n",
        "    print(i, \"WRONG Tues's Proj,\", round(tuesday_projected_close,2), \", didn't correlate with Tues's actual,\", round(tuesday_real_close,2), \" since Mon's Close was\", round(monday_close,2))\n",
        "\n",
        "print(\"\\ncount:\", graph_counter)\n",
        "print(\"Correct:\", graph_correct)\n",
        "print(\"InCorrect:\", graph_incorrect)\n",
        "print(\"Directionally Correct %:\", graph_correct/graph_counter)"
      ],
      "execution_count": null,
      "outputs": [
        {
          "output_type": "display_data",
          "data": {
            "image/png": "[encoded data removed]",
            "text/plain": [
              "<Figure size 1152x576 with 1 Axes>"
            ]
          },
          "metadata": {
            "tags": [],
            "needs_background": "light"
          }
        },
        {
          "output_type": "stream",
          "text": [
            "0 WRONG Tues's Proj, 282.46 , didn't correlate with Tues's actual, 277.65  since Mon's Close was 281.59\n",
            "1 WRONG Tues's Proj, 277.73 , didn't correlate with Tues's actual, 276.88  since Mon's Close was 277.65\n",
            "2 WRONG Tues's Proj, 277.76 , didn't correlate with Tues's actual, 274.18  since Mon's Close was 276.88\n",
            "3 WRONG Tues's Proj, 276.21 , didn't correlate with Tues's actual, 272.88  since Mon's Close was 274.18\n",
            "4 BOTH Tues's Projection, 274.26 , and Tues's actual close, 273.61  was HIGHER than Mon's Close 272.88\n",
            "5 WRONG Tues's Proj, 273.82 , didn't correlate with Tues's actual, 272.96  since Mon's Close was 273.61\n",
            "6 BOTH Tues's Projection, 273.84 , and Tues's actual close, 273.41  was HIGHER than Mon's Close 272.96\n",
            "7 BOTH Tues's Projection, 273.45 , and Tues's actual close, 274.47  was HIGHER than Mon's Close 273.41\n",
            "8 BOTH Tues's Projection, 274.23 , and Tues's actual close, 274.02  was LOWER than Mon's Close 274.47\n",
            "9 BOTH Tues's Projection, 274.5 , and Tues's actual close, 274.93  was HIGHER than Mon's Close 274.02\n",
            "\n",
            "count: 10\n",
            "Correct: 5\n",
            "InCorrect: 5\n",
            "Directionally Correct %: 0.5\n"
          ],
          "name": "stdout"
        }
      ]
    },
    {
      "cell_type": "markdown",
      "metadata": {
        "id": "4v-xlr7krnAa",
        "colab_type": "text"
      },
      "source": [
        "#Train/Test Split Data\n",
        "\n",
        "\n"
      ]
    },
    {
      "cell_type": "code",
      "metadata": {
        "id": "3ciWTWM1sxA8",
        "colab_type": "code",
        "colab": {
          "base_uri": "https://localhost:8080/",
          "height": 51
        },
        "outputId": "a9cf3669-55f9-48c7-c941-0d300cce06af"
      },
      "source": [
        "#SAMPLE SGD\n",
        "import numpy as np\n",
        "from sklearn.linear_model import SGDRegressor\n",
        "from sklearn.pipeline import make_pipeline\n",
        "from sklearn.preprocessing import StandardScaler\n",
        "\n",
        "n_samples, n_features = 10, 5\n",
        "rng = np.random.RandomState(0)\n",
        "y = rng.randn(n_samples)\n",
        "X = rng.randn(n_samples, n_features)\n",
        "# Always scale the input. The most convenient way is to use a pipeline.\n",
        "reg = make_pipeline(StandardScaler(), SGDRegressor(max_iter=1000, tol=1e-3))\n",
        "reg.fit(X, y)\n",
        "y"
      ],
      "execution_count": null,
      "outputs": [
        {
          "output_type": "execute_result",
          "data": {
            "text/plain": [
              "array([ 1.76405235,  0.40015721,  0.97873798,  2.2408932 ,  1.86755799,\n",
              "       -0.97727788,  0.95008842, -0.15135721, -0.10321885,  0.4105985 ])"
            ]
          },
          "metadata": {
            "tags": []
          },
          "execution_count": 498
        }
      ]
    },
    {
      "cell_type": "markdown",
      "metadata": {
        "id": "hjroB9koyxwX",
        "colab_type": "text"
      },
      "source": [
        "https://www.kaggle.com/faressayah/stock-market-analysis-prediction-using-lstm/notebook#6.-Predicting-the-closing-price-stock-price-of-APPLE-inc:"
      ]
    },
    {
      "cell_type": "markdown",
      "metadata": {
        "id": "KySbAc-vskxU",
        "colab_type": "text"
      },
      "source": [
        "https://www.linkedin.com/in/fares-sayah/"
      ]
    }
  ]
}